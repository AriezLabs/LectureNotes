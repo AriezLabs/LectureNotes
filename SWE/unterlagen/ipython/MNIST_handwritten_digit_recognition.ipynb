{
 "cells": [
  {
   "cell_type": "code",
   "execution_count": 2,
   "metadata": {},
   "outputs": [
    {
     "name": "stderr",
     "output_type": "stream",
     "text": [
      "Using TensorFlow backend.\n"
     ]
    }
   ],
   "source": [
    "import keras"
   ]
  },
  {
   "cell_type": "code",
   "execution_count": 3,
   "metadata": {},
   "outputs": [],
   "source": [
    "from keras.datasets import mnist\n",
    "(X_train, y_train), (X_test, y_test)= mnist.load_data()"
   ]
  },
  {
   "cell_type": "code",
   "execution_count": 4,
   "metadata": {},
   "outputs": [
    {
     "data": {
      "text/plain": [
       "(60000, 28, 28)"
      ]
     },
     "execution_count": 4,
     "metadata": {},
     "output_type": "execute_result"
    }
   ],
   "source": [
    "X_train.shape"
   ]
  },
  {
   "cell_type": "code",
   "execution_count": 5,
   "metadata": {},
   "outputs": [
    {
     "data": {
      "text/plain": [
       "(10000, 28, 28)"
      ]
     },
     "execution_count": 5,
     "metadata": {},
     "output_type": "execute_result"
    }
   ],
   "source": [
    "X_test.shape"
   ]
  },
  {
   "cell_type": "code",
   "execution_count": 13,
   "metadata": {},
   "outputs": [
    {
     "data": {
      "text/plain": [
       "<matplotlib.image.AxesImage at 0xb1fd4b7f0>"
      ]
     },
     "execution_count": 13,
     "metadata": {},
     "output_type": "execute_result"
    },
    {
     "data": {
      "image/png": "[encoded data removed]",
      "text/plain": [
       "<Figure size 432x288 with 1 Axes>"
      ]
     },
     "metadata": {
      "needs_background": "light"
     },
     "output_type": "display_data"
    }
   ],
   "source": [
    "#%matplotlib inline\n",
    "import matplotlib.pyplot as plt\n",
    "plt.imshow(X_train[7], cmap='Greys')"
   ]
  },
  {
   "cell_type": "code",
   "execution_count": 14,
   "metadata": {},
   "outputs": [
    {
     "data": {
      "text/plain": [
       "array([  0,   0,   0,   0,   0,   0,   0,   0,   0,   0,   0,   0,   0,\n",
       "         0,   0,   0,  86, 252, 252,  74,   0,   0,   0,   0,   0,   0,\n",
       "         0,   0], dtype=uint8)"
      ]
     },
     "execution_count": 14,
     "metadata": {},
     "output_type": "execute_result"
    }
   ],
   "source": [
    "X_train[7][18]"
   ]
  },
  {
   "cell_type": "code",
   "execution_count": 17,
   "metadata": {},
   "outputs": [],
   "source": [
    "# prepare X for input neurons\n",
    "image_size_in_pixels = 28 * 28 # = 784 pixels\n",
    "X_train_flattened, X_test_flattened= flattenInput(image_size_in_pixels)\n",
    "\n",
    "# prepare y for output neurons\n",
    "num_classes = 10\n",
    "y_train_categorized, y_test_categorized= flattenOutput(num_classes)"
   ]
  },
  {
   "cell_type": "code",
   "execution_count": 32,
   "metadata": {},
   "outputs": [
    {
     "name": "stdout",
     "output_type": "stream",
     "text": [
      "_________________________________________________________________\n",
      "Layer (type)                 Output Shape              Param #   \n",
      "=================================================================\n",
      "dense_14 (Dense)             (None, 32)                25120     \n",
      "_________________________________________________________________\n",
      "dense_15 (Dense)             (None, 10)                330       \n",
      "=================================================================\n",
      "Total params: 25,450\n",
      "Trainable params: 25,450\n",
      "Non-trainable params: 0\n",
      "_________________________________________________________________\n"
     ]
    }
   ],
   "source": [
    "from keras.models import Sequential\n",
    "from keras.layers import Dense\n",
    "\n",
    "model = Sequential()\n",
    "\n",
    "# The input layer requires the special input_shape parameter which \n",
    "# has to match the 784 pixel shape of the training data:\n",
    "model.add(Dense(units=32,  input_shape=(image_size_in_pixels,),  activation='sigmoid'))\n",
    "model.add(Dense(units=num_classes, activation='sigmoid'))\n",
    "model.summary()"
   ]
  },
  {
   "cell_type": "code",
   "execution_count": 33,
   "metadata": {},
   "outputs": [
    {
     "name": "stdout",
     "output_type": "stream",
     "text": [
      "Epoch 1/3\n",
      "60000/60000 [==============================] - 4s 74us/step - loss: 1.3226 - mean_absolute_error: 0.1930\n",
      "Epoch 2/3\n",
      "60000/60000 [==============================] - 4s 74us/step - loss: 0.6858 - mean_absolute_error: 0.0906\n",
      "Epoch 3/3\n",
      "60000/60000 [==============================] - 4s 74us/step - loss: 0.5356 - mean_absolute_error: 0.0861\n",
      "The neural network training is completed!\n"
     ]
    }
   ],
   "source": [
    "from keras import metrics\n",
    "\n",
    "model.compile(optimizer='sgd', loss='categorical_crossentropy', metrics= [metrics.mae])\n",
    "\n",
    "history= model.fit(X_train_flattened, y_train_categorized, epochs= 3)\n",
    "\n",
    "print (\"The neural network training is completed!\")"
   ]
  },
  {
   "cell_type": "code",
   "execution_count": 34,
   "metadata": {},
   "outputs": [
    {
     "name": "stdout",
     "output_type": "stream",
     "text": [
      "[0.0, 0.8070010441859563, 0.9094297904570897, 0.9139377793153127]\n"
     ]
    }
   ],
   "source": [
    "accuraciesForEachEpoch= calcAccuracies()  # 1 - mean_absolute_error \n",
    "                                          #     for each epoch\n",
    "print (accuraciesForEachEpoch)"
   ]
  },
  {
   "cell_type": "code",
   "execution_count": 35,
   "metadata": {},
   "outputs": [
    {
     "data": {
      "image/png": "[encoded data removed]",
      "text/plain": [
       "<Figure size 432x288 with 1 Axes>"
      ]
     },
     "metadata": {
      "needs_background": "light"
     },
     "output_type": "display_data"
    }
   ],
   "source": [
    "from matplotlib import pyplot as plt\n",
    "plt.plot(accuraciesForEachEpoch)\n",
    "plt.title('Model accuracy improvements')\n",
    "plt.ylabel('Accuracy')\n",
    "plt.xlabel('Epoch')\n",
    "plt.show()"
   ]
  },
  {
   "cell_type": "code",
   "execution_count": 37,
   "metadata": {},
   "outputs": [
    {
     "name": "stdout",
     "output_type": "stream",
     "text": [
      "=========> erkannte Ziffer: 0\n",
      "=========> erkannte Ziffer: 4\n",
      "=========> erkannte Ziffer: 1\n",
      "=========> erkannte Ziffer: 9\n",
      "0   0.002\n",
      "1   0.002\n",
      "2   0.007\n",
      "3   0.114\n",
      "4   0.001\n",
      "5   0.007\n",
      "6   0.000\n",
      "7   0.005\n",
      "8   0.030\n",
      "9   0.007\n",
      "=========> erkannte Ziffer: 3\n"
     ]
    },
    {
     "data": {
      "text/plain": [
       "3"
      ]
     },
     "execution_count": 37,
     "metadata": {},
     "output_type": "execute_result"
    }
   ],
   "source": [
    "recognizeDigit(1)  # should be digit '0'\n",
    "recognizeDigit(2)  # should be digit '4'\n",
    "recognizeDigit(3)  # should be digit '1'\n",
    "recognizeDigit(4)  # should be digit '9'\n",
    "recognizeDigit(7, verbose= True)  # should be digit '3'"
   ]
  },
  {
   "cell_type": "markdown",
   "metadata": {},
   "source": [
    "## helper functions"
   ]
  },
  {
   "cell_type": "code",
   "execution_count": 15,
   "metadata": {},
   "outputs": [],
   "source": [
    "def flattenInput(noOfInputNeurons):\n",
    "    X_train_flattened = X_train.reshape(X_train.shape[0], image_size_in_pixels) \n",
    "    X_test_flattened = X_test.reshape(X_test.shape[0], image_size_in_pixels)\n",
    "    return X_train_flattened, X_test_flattened\n",
    "\n",
    "def flattenOutput(noOfOutputNeurons):\n",
    "    y_train_categorized = keras.utils.to_categorical(y_train, num_classes)\n",
    "    y_test_categorized = keras.utils.to_categorical(y_test, num_classes)\n",
    "    return y_train_categorized, y_test_categorized"
   ]
  },
  {
   "cell_type": "code",
   "execution_count": 20,
   "metadata": {},
   "outputs": [],
   "source": [
    "def calcAccuracies():\n",
    "    errors= history.history['mean_absolute_error'].copy()\n",
    "    i= 0\n",
    "    errors.insert(0,1.0)\n",
    "    accuracies= errors\n",
    "    for val in errors:\n",
    "        accuracies[i]= 1 - errors[i]\n",
    "        i= i + 1\n",
    "    return accuracies\n"
   ]
  },
  {
   "cell_type": "code",
   "execution_count": 36,
   "metadata": {},
   "outputs": [],
   "source": [
    "def recognizeDigit(index, verbose= False):\n",
    "    prediction= model.predict(X_train_flattened)[index]\n",
    "    i= 0\n",
    "    maxProbabilty= 0.0\n",
    "    recognizedDigit= 0\n",
    "    for probability in prediction:\n",
    "        if verbose:\n",
    "            print (str(i) + \"   {:,.3f}\".format(probability))\n",
    "        if probability > maxProbabilty:\n",
    "            maxProbabilty= probability\n",
    "            recognizedDigit= i\n",
    "        i= i + 1\n",
    "    print (\"=========> erkannte Ziffer: \" + str(recognizedDigit))\n",
    "    return recognizedDigit"
   ]
  },
  {
   "cell_type": "code",
   "execution_count": null,
   "metadata": {},
   "outputs": [],
   "source": []
  }
 ],
 "metadata": {
  "kernelspec": {
   "display_name": "Python 3",
   "language": "python",
   "name": "python3"
  },
  "language_info": {
   "codemirror_mode": {
    "name": "ipython",
    "version": 3
   },
   "file_extension": ".py",
   "mimetype": "text/x-python",
   "name": "python",
   "nbconvert_exporter": "python",
   "pygments_lexer": "ipython3",
   "version": "3.7.0"
  }
 },
 "nbformat": 4,
 "nbformat_minor": 2
}
